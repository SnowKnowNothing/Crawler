{
 "cells": [
  {
   "cell_type": "code",
   "execution_count": 1,
   "metadata": {},
   "outputs": [],
   "source": [
    "import jieba\n",
    "import jieba.analyse"
   ]
  },
  {
   "cell_type": "markdown",
   "metadata": {},
   "source": [
    "### jieba分词功能\n",
    "jieba.cut 方法接受三个输入参数: 需要分词的字符串；cut_all 参数用来控制是否采用全模式；HMM 参数用来控制是否使用HMM模型，返回的结构是一个可迭代的generator，可以使用 for 循环来获得分词后得到的每一个词语"
   ]
  },
  {
   "cell_type": "code",
   "execution_count": 3,
   "metadata": {},
   "outputs": [
    {
     "output_type": "stream",
     "name": "stdout",
     "text": "小,明,硕士,毕业,于,中国,中国科学院,科学,科学院,学院,计算,计算所,，,后,在,日本,日本京都大学,京都,京都大学,大学,深造\n小明,硕士,毕业,于,中国科学院,计算所,，,后,在,日本京都大学,深造\n小明,硕士,毕业,于,中国,科学,学院,科学院,中国科学院,计算,计算所,，,后,在,日本,京都,大学,日本京都大学,深造\n"
    }
   ],
   "source": [
    "text = \"小明硕士毕业于中国科学院计算所，后在日本京都大学深造\"\n",
    "# 全模式\n",
    "seg_list = jieba.cut(text, cut_all=True)\n",
    "print(','.join(seg_list))\n",
    "# 精确模式\n",
    "seg_list = jieba.cut(text, cut_all=False)\n",
    "print(','.join(seg_list))\n",
    "# 搜索引擎模式\n",
    "seg_list = jieba.cut_for_search(text)\n",
    "print(','.join(seg_list))"
   ]
  },
  {
   "cell_type": "code",
   "execution_count": null,
   "metadata": {},
   "outputs": [],
   "source": []
  }
 ],
 "metadata": {
  "language_info": {
   "codemirror_mode": {
    "name": "ipython",
    "version": 3
   },
   "file_extension": ".py",
   "mimetype": "text/x-python",
   "name": "python",
   "nbconvert_exporter": "python",
   "pygments_lexer": "ipython3",
   "version": "3.7.4-final"
  },
  "orig_nbformat": 2,
  "kernelspec": {
   "name": "python37464bitanaconda3virtualenv26dcd985ba8244e3b3422517f7853cff",
   "display_name": "Python 3.7.4 64-bit ('anaconda3': virtualenv)"
  }
 },
 "nbformat": 4,
 "nbformat_minor": 2
}